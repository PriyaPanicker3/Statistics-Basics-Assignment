{
  "nbformat": 4,
  "nbformat_minor": 0,
  "metadata": {
    "colab": {
      "provenance": []
    },
    "kernelspec": {
      "name": "python3",
      "display_name": "Python 3"
    },
    "language_info": {
      "name": "python"
    }
  },
  "cells": [
    {
      "cell_type": "markdown",
      "source": [
        "**Statistics Basics Assignment**"
      ],
      "metadata": {
        "id": "lUAP4DKkeRF0"
      }
    },
    {
      "cell_type": "markdown",
      "source": [
        "Question 1: What is the difference between descriptive statistics and inferential statistics? Explain with examples.\n",
        "\n",
        "Answer:\n",
        "Descriptive statistics summarize and organize data to make it easier to understand. It includes measures like mean, median, mode, range, and standard deviation.\n",
        "Example: The average score of students in a class (mean of marks).\n",
        "\n",
        "Inferential statistics use a sample of data to make predictions or generalizations about a population.\n",
        "Example: Estimating election results based on a sample survey."
      ],
      "metadata": {
        "id": "ILOCKRdbegwc"
      }
    },
    {
      "cell_type": "markdown",
      "source": [
        "Question 2: What is sampling in statistics? Explain the differences between random and stratified sampling.\n",
        "\n",
        "Answer:\n",
        "Sampling is selecting a subset of individuals from a population to estimate characteristics of the whole population.\n",
        "\n",
        "Random Sampling: Every member has an equal chance of being selected.\n",
        "\n",
        "Stratified Sampling: The population is divided into strata (groups), and random samples are taken from each group.\n",
        "\n"
      ],
      "metadata": {
        "id": "HstZRA5Wep5L"
      }
    },
    {
      "cell_type": "markdown",
      "source": [
        "Question 3: Define mean, median, and mode. Explain why these measures of central tendency are important.\n",
        "\n",
        "Answer:\n",
        "Mean: Average of numbers.\n",
        "\n",
        "Median: Middle value when data is ordered.\n",
        "\n",
        "Mode: Most frequent value.\n",
        "\n",
        "These measures describe the center of a data set, helping to understand typical values."
      ],
      "metadata": {
        "id": "Yz7P0sOuetkt"
      }
    },
    {
      "cell_type": "markdown",
      "source": [
        "Question 4: Explain skewness and kurtosis. What does a positive skew imply about the data?\n",
        "\n",
        "Answer:\n",
        "\n",
        "Skewness measures asymmetry of data distribution.\n",
        "\n",
        "Positive skew: Tail on the right side; most data is on the left.\n",
        "\n",
        "Kurtosis measures the \"tailedness\" of data.\n",
        "\n",
        "High kurtosis = heavy tails; low kurtosis = light tails."
      ],
      "metadata": {
        "id": "7YEDaB9yezzU"
      }
    },
    {
      "cell_type": "code",
      "source": [
        "# Question 5: : Implement a Python program to compute the mean, median, and mode ofa given list of numbers.\n",
        "# numbers = [12, 15, 12, 18, 19, 12, 20, 22, 19, 19, 24, 24, 24, 26, 28]\n",
        "\n",
        "import statistics\n",
        "\n",
        "numbers = [12, 15, 12, 18, 19, 12, 20, 22, 19, 19, 24, 24, 24, 26, 28]\n",
        "\n",
        "mean_val = statistics.mean(numbers)\n",
        "median_val = statistics.median(numbers)\n",
        "mode_val = statistics.mode(numbers)\n",
        "\n",
        "print(\"Mean:\", mean_val)\n",
        "print(\"Median:\", median_val)\n",
        "print(\"Mode:\", mode_val)\n",
        "\n",
        "\n",
        "\n"
      ],
      "metadata": {
        "colab": {
          "base_uri": "https://localhost:8080/"
        },
        "id": "gNGpjTsde7o9",
        "outputId": "b8424a65-aef2-4b91-8e97-8410602c7f22"
      },
      "execution_count": 1,
      "outputs": [
        {
          "output_type": "stream",
          "name": "stdout",
          "text": [
            "Mean: 19.6\n",
            "Median: 19\n",
            "Mode: 12\n"
          ]
        }
      ]
    },
    {
      "cell_type": "code",
      "source": [
        "# Question 6: Compute the covariance and correlation coefficient between the following two datasets provided as lists in Python:\n",
        "#list_x = [10, 20, 30, 40, 50]\n",
        "#list_y = [15, 25, 35, 45, 60]\n",
        "\n",
        "import numpy as np\n",
        "\n",
        "list_x = [10, 20, 30, 40, 50]\n",
        "list_y = [15, 25, 35, 45, 60]\n",
        "\n",
        "covariance = np.cov(list_x, list_y)[0][1]\n",
        "correlation = np.corrcoef(list_x, list_y)[0][1]\n",
        "\n",
        "print(\"Covariance:\", covariance)\n",
        "print(\"Correlation Coefficient:\", correlation)\n",
        "\n"
      ],
      "metadata": {
        "colab": {
          "base_uri": "https://localhost:8080/"
        },
        "id": "lpN8wRpyftCU",
        "outputId": "3a6c68e3-ff6f-4a99-a315-d649275b992a"
      },
      "execution_count": 2,
      "outputs": [
        {
          "output_type": "stream",
          "name": "stdout",
          "text": [
            "Covariance: 275.0\n",
            "Correlation Coefficient: 0.995893206467704\n"
          ]
        }
      ]
    },
    {
      "cell_type": "code",
      "source": [
        "# Question 7: Write a Python script to draw a boxplot for the following numeric list and identify its outliers. Explain the result:\n",
        "# data = [12, 14, 14, 15, 18, 19, 19, 21, 22, 22, 23, 23, 24, 26, 29, 35]\n",
        "import matplotlib.pyplot as plt\n",
        "\n",
        "data = [12, 14, 14, 15, 18, 19, 19, 21, 22, 22, 23, 23, 24, 26, 29, 35]\n",
        "\n",
        "plt.boxplot(data)\n",
        "plt.title(\"Boxplot of Data\")\n",
        "plt.show()\n",
        "\n",
        "\n",
        " #Explanation:\n",
        "#The boxplot visually shows the median, quartiles, and outliers. Here, 35 may be an outlier as it lies far from the rest of the data."
      ],
      "metadata": {
        "colab": {
          "base_uri": "https://localhost:8080/",
          "height": 452
        },
        "id": "8U8uGBjhf8oN",
        "outputId": "190264a4-767f-4e09-975a-57d93d7d4de9"
      },
      "execution_count": 3,
      "outputs": [
        {
          "output_type": "display_data",
          "data": {
            "text/plain": [
              "<Figure size 640x480 with 1 Axes>"
            ],
            "image/png": "[encoded data removed]"
          },
          "metadata": {}
        }
      ]
    },
    {
      "cell_type": "code",
      "source": [
        "#Question 8: You are working as a data analyst in an e-commerce company. The marketing team wants to know if there is a relationship between advertising spend and daily sales.\n",
        "#● Explain how you would use covariance and correlation to explore this relationship.\n",
        "#● Write Python code to compute the correlation between the two lists: advertising_spend = [200, 250, 300, 400, 500]\n",
        "#daily_sales = [2200, 2450, 2750, 3200, 4000]\n",
        "\n",
        "advertising_spend = [200, 250, 300, 400, 500]\n",
        "daily_sales = [2200, 2450, 2750, 3200, 4000]\n",
        "\n",
        "cov = np.cov(advertising_spend, daily_sales)[0][1]\n",
        "corr = np.corrcoef(advertising_spend, daily_sales)[0][1]\n",
        "\n",
        "print(\"Covariance:\", cov)\n",
        "print(\"Correlation:\", corr)\n"
      ],
      "metadata": {
        "colab": {
          "base_uri": "https://localhost:8080/"
        },
        "id": "Eun59bQbgZV0",
        "outputId": "b937354d-88c6-476a-cc0e-a0b0765639a0"
      },
      "execution_count": 4,
      "outputs": [
        {
          "output_type": "stream",
          "name": "stdout",
          "text": [
            "Covariance: 84875.0\n",
            "Correlation: 0.9935824101653329\n"
          ]
        }
      ]
    },
    {
      "cell_type": "code",
      "source": [
        "# Question 9: Your team has collected customer satisfaction survey data on a scale of 1-10 and wants to understand its distribution before launching a new product.\n",
        "# ● Explain which summary statistics and visualizations (e.g. mean, standard deviation, histogram) you’d use.\n",
        "# ● Write Python code to create a histogram using Matplotlib for the survey data: survey_scores = [7, 8, 5, 9, 6, 7, 8, 9, 10, 4, 7, 6, 9, 8, 7]\n",
        "\n",
        "import matplotlib.pyplot as plt\n",
        "import statistics\n",
        "\n",
        "survey_scores = [7, 8, 5, 9, 6, 7, 8, 9, 10, 4, 7, 6, 9, 8, 7]\n",
        "\n",
        "mean_val = statistics.mean(survey_scores)\n",
        "std_dev = statistics.stdev(survey_scores)\n",
        "\n",
        "plt.hist(survey_scores, bins=6, color='skyblue', edgecolor='black')\n",
        "plt.title(\"Customer Satisfaction Histogram\")\n",
        "plt.xlabel(\"Score\")\n",
        "plt.ylabel(\"Frequency\")\n",
        "plt.show()\n",
        "\n",
        "print(\"Mean:\", mean_val)\n",
        "print(\"Standard Deviation:\", std_dev)\n"
      ],
      "metadata": {
        "colab": {
          "base_uri": "https://localhost:8080/",
          "height": 507
        },
        "id": "viqCz_8wgtUl",
        "outputId": "7d2d760f-e88f-4d66-88a5-2511b1a8b330"
      },
      "execution_count": 5,
      "outputs": [
        {
          "output_type": "display_data",
          "data": {
            "text/plain": [
              "<Figure size 640x480 with 1 Axes>"
            ],
            "image/png": "[encoded data removed]"
          },
          "metadata": {}
        },
        {
          "output_type": "stream",
          "name": "stdout",
          "text": [
            "Mean: 7.333333333333333\n",
            "Standard Deviation: 1.632993161855452\n"
          ]
        }
      ]
    }
  ]
}